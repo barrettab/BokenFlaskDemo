{
 "cells": [
  {
   "cell_type": "markdown",
   "metadata": {},
   "source": [
    "# Importing Libraries & Setting Ourselves Up to Succeed\n",
    "\n",
    "The key things here are the requests for getting the data and the various bokeh imports to facilitate our first graphs together"
   ]
  },
  {
   "cell_type": "code",
   "execution_count": null,
   "metadata": {},
   "outputs": [],
   "source": []
  },
  {
   "cell_type": "code",
   "execution_count": 5,
   "metadata": {},
   "outputs": [],
   "source": [
    "import pandas as pd\n",
    "from dateutil import parser\n",
    "import requests \n",
    "import matplotlib.pyplot as plt\n",
    "from bokeh.plotting import figure, show, output_notebook, reset_output\n",
    "from bokeh.models import ColumnDataSource, HoverTool\n",
    "from bokeh.embed import components\n",
    "#from bokeh.layouts import column\n",
    "import os\n",
    "import math\n",
    "\n",
    "os.chdir(r'C:\\Users\\AdamBarrett\\bokeh-flask\\data')\n",
    "#sensor_dict ={'00011':'Temperature  Fahrenheit','00060':'Discharge Cubic-per-Second','00065':'Gage Height feet','00010':'Temperature Celsius'}\n",
    "#location_dict = {'01129200':'Below Indian Stream NH','01129500':' North Stratford NH','01131500':'Near Dalton','01138500':'Wells River','01144500':'West Lebanon','01154500':'North Walpole','01161280':'Near Northfield','01172010':'I-391 Bridge @Holyoke','01184000':'Thompsonville','01190070':'Hartford CT','01193050':'Middle Haddam CT','01194750':'Essex CT','01194796':'Old Lyme CT'}\n",
    "\n",
    "sensor_dict ={'63680':'Turbidity' ,'00095':'Conductivity', '00060':'Discharge Cubic-per-Second','00065':'Gage Height feet','00010':'Temperature Celsius'}\n",
    "location_dict ={'02336000': 'Chatahooche River Atlanta', '02335000': 'Chatahooche River Near Norcross'}\n",
    "\n",
    "def pull_usgs(sites, sensors, days, location, sensor_dict):\n",
    "    \"\"\"This is a function which takes a site number and a list of \n",
    "    sensors and number of days\n",
    "    then creates and returns dataframe with a datetime index,\n",
    "    names, ids and value\"\"\"  \n",
    "     #set the formal constuctors of the final URL\n",
    "    api_base = 'http://waterservices.usgs.gov/nwis/iv/?'\n",
    "    form_state = 'format=json'\n",
    "    site_slug =\"&sites=\"\n",
    "    params_slug = '&parameterCd='\n",
    "    #both fixed and variable parameters to br gleened from HTML\n",
    "#     params = '00060,00065' #(comma separated 00060,00065 allow selection)\n",
    "#     sites ='01129500'#(get from web ) \n",
    "    period = '&period=P' +str(days) +'D'\n",
    "\n",
    "    # the composite \n",
    "    url =api_base+form_state+site_slug+sites+period+params_slug+sensors\n",
    "\n",
    "    #Accessing API data\n",
    "    response = requests.get(url)\n",
    "    \n",
    "    #extracting the JSON from the response object\n",
    "    raw = response.json()\n",
    "    \n",
    "    #Extracting the Data from the metadata JSON \n",
    "    data = raw['value']['timeSeries']\n",
    "    stream_data =pd.DataFrame(columns=['date_time','site_id', 'site_name', 'sensor', 'sensor_code', 'value'])\n",
    "    # The best Free JSON Tool ever made: http://chris.photobooks.com/json/default.htm\n",
    "    \n",
    "    #simple but ugly means of re-structuring heavily nested (GOVERNMENT) data\n",
    "    for i, d in enumerate(data):\n",
    "        #print('i {}: d: {}'.format(i,d))\n",
    "        site_id = data[i]['name'].split(':')[1]\n",
    "        site_n = location_dict[site_id]\n",
    "        idn = data[i]['name'].split(':')[2]\n",
    "        idw = sensor_dict[idn]\n",
    "        #print(idn, idw, site_id)\n",
    "        sub_data = data[i]['values'][0]['value']\n",
    "        for j, d2 in enumerate(sub_data):\n",
    "            value = sub_data[j]['value']\n",
    "            date = parser.parse(sub_data[j]['dateTime']).strftime('%Y-%m-%d %H:%M')\n",
    "            #print(dates, values)\n",
    "            reading ={'date_time':date,\n",
    "                         'site_id': site_id,\n",
    "                         'site_name' : site_n,\n",
    "                         'sensor':idw,\n",
    "                         'sensor_code':idn,\n",
    "                         'value':value}\n",
    "            reading = pd.DataFrame.from_dict(reading, orient='index').T\n",
    "            stream_data = stream_data.append(reading, ignore_index = True)\n",
    "            \n",
    "    #converting our dates and values to dates and values\n",
    "    stream_data['date_time'] = pd.to_datetime(stream_data['date_time'])\n",
    "    stream_data['value']=stream_data['value'].map(lambda x: float(x))\n",
    "    \n",
    "    # making a dataframe, grouping by sensor and date setting the index\n",
    "    stream_data = pd.DataFrame(stream_data.groupby(['date_time', 'sensor_code'])['value'].mean())\n",
    "    stream_data.reset_index(inplace=True)\n",
    "    \n",
    "    #Making the data wide future ease and human interpretability\n",
    "    stream_data = stream_data.pivot(index='date_time',columns='sensor_code',values='value')\n",
    "    return(sites, stream_data)\n"
   ]
  },
  {
   "cell_type": "code",
   "execution_count": 6,
   "metadata": {},
   "outputs": [],
   "source": [
    "site, usgs = pull_usgs('02336000','00010,00060,00065,00095,63680', 3, location_dict, sensor_dict)"
   ]
  },
  {
   "cell_type": "code",
   "execution_count": 7,
   "metadata": {},
   "outputs": [
    {
     "data": {
      "text/plain": [
       "'02336000'"
      ]
     },
     "execution_count": 7,
     "metadata": {},
     "output_type": "execute_result"
    }
   ],
   "source": [
    "site"
   ]
  },
  {
   "cell_type": "code",
   "execution_count": 8,
   "metadata": {},
   "outputs": [
    {
     "data": {
      "text/html": [
       "<div>\n",
       "<style scoped>\n",
       "    .dataframe tbody tr th:only-of-type {\n",
       "        vertical-align: middle;\n",
       "    }\n",
       "\n",
       "    .dataframe tbody tr th {\n",
       "        vertical-align: top;\n",
       "    }\n",
       "\n",
       "    .dataframe thead th {\n",
       "        text-align: right;\n",
       "    }\n",
       "</style>\n",
       "<table border=\"1\" class=\"dataframe\">\n",
       "  <thead>\n",
       "    <tr style=\"text-align: right;\">\n",
       "      <th>sensor_code</th>\n",
       "      <th>00010</th>\n",
       "      <th>00060</th>\n",
       "      <th>00065</th>\n",
       "      <th>00095</th>\n",
       "      <th>63680</th>\n",
       "    </tr>\n",
       "    <tr>\n",
       "      <th>date_time</th>\n",
       "      <th></th>\n",
       "      <th></th>\n",
       "      <th></th>\n",
       "      <th></th>\n",
       "      <th></th>\n",
       "    </tr>\n",
       "  </thead>\n",
       "  <tbody>\n",
       "    <tr>\n",
       "      <th>2019-04-28 16:00:00</th>\n",
       "      <td>13.3</td>\n",
       "      <td>7890.0</td>\n",
       "      <td>7.68</td>\n",
       "      <td>55.0</td>\n",
       "      <td>10.8</td>\n",
       "    </tr>\n",
       "    <tr>\n",
       "      <th>2019-04-28 16:15:00</th>\n",
       "      <td>13.4</td>\n",
       "      <td>7850.0</td>\n",
       "      <td>7.65</td>\n",
       "      <td>55.0</td>\n",
       "      <td>10.4</td>\n",
       "    </tr>\n",
       "    <tr>\n",
       "      <th>2019-04-28 16:30:00</th>\n",
       "      <td>13.4</td>\n",
       "      <td>7800.0</td>\n",
       "      <td>7.62</td>\n",
       "      <td>55.0</td>\n",
       "      <td>9.7</td>\n",
       "    </tr>\n",
       "    <tr>\n",
       "      <th>2019-04-28 16:45:00</th>\n",
       "      <td>13.5</td>\n",
       "      <td>7770.0</td>\n",
       "      <td>7.60</td>\n",
       "      <td>55.0</td>\n",
       "      <td>9.7</td>\n",
       "    </tr>\n",
       "    <tr>\n",
       "      <th>2019-04-28 17:00:00</th>\n",
       "      <td>13.6</td>\n",
       "      <td>7740.0</td>\n",
       "      <td>7.58</td>\n",
       "      <td>55.0</td>\n",
       "      <td>10.0</td>\n",
       "    </tr>\n",
       "  </tbody>\n",
       "</table>\n",
       "</div>"
      ],
      "text/plain": [
       "sensor_code          00010   00060  00065  00095  63680\n",
       "date_time                                              \n",
       "2019-04-28 16:00:00   13.3  7890.0   7.68   55.0   10.8\n",
       "2019-04-28 16:15:00   13.4  7850.0   7.65   55.0   10.4\n",
       "2019-04-28 16:30:00   13.4  7800.0   7.62   55.0    9.7\n",
       "2019-04-28 16:45:00   13.5  7770.0   7.60   55.0    9.7\n",
       "2019-04-28 17:00:00   13.6  7740.0   7.58   55.0   10.0"
      ]
     },
     "execution_count": 8,
     "metadata": {},
     "output_type": "execute_result"
    }
   ],
   "source": [
    "usgs.head()"
   ]
  },
  {
   "cell_type": "markdown",
   "metadata": {},
   "source": [
    "## What would `matplotlib` do?"
   ]
  },
  {
   "cell_type": "code",
   "execution_count": 9,
   "metadata": {},
   "outputs": [],
   "source": [
    "def stream_plotter(data, sensor_code, site , color = 'purple'):\n",
    "    \"\"\"Accepts a Dataframe, plotting color and column name\n",
    "    returns a bokeh plot labeled with hovers\"\"\"\n",
    "    sensor_dict ={'63680':'Turbidity' ,'00095':'Conductivity', '00060':'Discharge Cubic-per-Second','00065':'Gage Height feet','00010':'Temperature Celsius'}\n",
    "    location_dict ={'02336000': 'Chatahooche River Atlanta', '02335000': 'Chatahooche River Near Norcross'}\n",
    "\n",
    "    title = '{} for {}'.format(sensor_dict[sensor_code], location_dict[site])\n",
    "    plot = plt.figure(figsize=(16,5))\n",
    "    plt.title(title)\n",
    "    plt.plot(data[sensor_code], c = color)\n",
    "    plt.xticks(rotation=45);\n",
    "    return(plot)"
   ]
  },
  {
   "cell_type": "code",
   "execution_count": 10,
   "metadata": {},
   "outputs": [
    {
     "data": {
      "image/png": "[encoded data removed]",
      "text/plain": [
       "<Figure size 1152x360 with 1 Axes>"
      ]
     },
     "metadata": {
      "needs_background": "light"
     },
     "output_type": "display_data"
    }
   ],
   "source": [
    "stream_plotter(usgs, '00010', site, 'blue');\n",
    "# all the codes 00010, 00060, 00065, 00095, 63680"
   ]
  },
  {
   "cell_type": "markdown",
   "metadata": {},
   "source": [
    "\n",
    "### Building Out  Bokeh Graphing Functions\n",
    " - First Function Foundation parts\n",
    "     - Create a `ColumnDataSource` in bokeh \n",
    "     - Create a schema for our hover tool\n",
    "     - create `source` and `hover` enities\n",
    " - Second Function The Time Series Graph!\n",
    " \n",
    " ### The `Sourcer` Function"
   ]
  },
  {
   "cell_type": "code",
   "execution_count": 11,
   "metadata": {},
   "outputs": [],
   "source": [
    "def sourcer(data):\n",
    "    source = ColumnDataSource(data={\n",
    "        'date'      : data.index,\n",
    "        '00060' : data['00060'],\n",
    "        '00065'    : data['00065'],\n",
    "        '00010'  : data['00010'],\n",
    "        '63680': data['63680'],\n",
    "        '00095': data['00095'],\n",
    "        'time':data.index.time\n",
    "    })\n",
    "    \n",
    "    hov= HoverTool(\n",
    "    tooltips=[('Time', '@time{%H:%M}'),\n",
    "              ( 'Discharge (cubic feet/second)','@00060' ),\n",
    "             ('Gage Height (feet) ', '@00065'),\n",
    "             ('Water Temperature (Celsius)', '@00010'),\n",
    "             ('Condcutivity', '@00095'),\n",
    "             ('Turbidity', '@63680')],\n",
    "        formatters={\n",
    "        'time'      : 'datetime', \n",
    "        'discharge' : 'printf', \n",
    "        'gage' : 'printf',\n",
    "        'temp_c' : 'printf'\n",
    "    },\n",
    "    mode = 'vline'\n",
    "    )\n",
    "    return(source, hov)\n",
    "source, hov = sourcer(usgs)"
   ]
  },
  {
   "cell_type": "code",
   "execution_count": null,
   "metadata": {},
   "outputs": [],
   "source": [
    "#source."
   ]
  },
  {
   "cell_type": "markdown",
   "metadata": {},
   "source": [
    "### The `date_plot` Function"
   ]
  },
  {
   "cell_type": "code",
   "execution_count": 12,
   "metadata": {},
   "outputs": [],
   "source": [
    "def date_plot(data, sensor, site = site, sensor_dict=sensor_dict, location_dict=location_dict):\n",
    "    source, hov = sourcer(usgs)\n",
    "    p = figure(plot_width=900, plot_height=400, title=\"{} at \\t Site number: {} \\t Location: {}\".format(site, location_dict[site], sensor_dict[sensor]), x_axis_type=\"datetime\")\n",
    "    p.line(x='date', y = sensor, color='darkorchid', legend= sensor_dict[sensor].split()[0], source = source)\n",
    "    p.xaxis.axis_label = 'Date'\n",
    "    p.yaxis.axis_label = sensor_dict[sensor]\n",
    "    p.xaxis.major_label_orientation = math.pi/4\n",
    "    p.add_tools(hov)\n",
    "    show(p)\n",
    " "
   ]
  },
  {
   "cell_type": "code",
   "execution_count": 13,
   "metadata": {},
   "outputs": [],
   "source": [
    "   \n",
    "date_plot(usgs, sensor = '00065')"
   ]
  },
  {
   "cell_type": "code",
   "execution_count": null,
   "metadata": {},
   "outputs": [],
   "source": [
    "date_plot(usgs, sensor = '00095')"
   ]
  },
  {
   "cell_type": "code",
   "execution_count": null,
   "metadata": {},
   "outputs": [],
   "source": [
    "date_plot(usgs,sensor = '00095')"
   ]
  },
  {
   "cell_type": "code",
   "execution_count": null,
   "metadata": {},
   "outputs": [],
   "source": [
    "date_plot(usgs,sensor = '00060')"
   ]
  },
  {
   "cell_type": "code",
   "execution_count": 14,
   "metadata": {},
   "outputs": [
    {
     "data": {
      "text/html": [
       "\n",
       "    <div class=\"bk-root\">\n",
       "        <a href=\"https://bokeh.pydata.org\" target=\"_blank\" class=\"bk-logo bk-logo-small bk-logo-notebook\"></a>\n",
       "        <span id=\"1246\">Loading BokehJS ...</span>\n",
       "    </div>"
      ]
     },
     "metadata": {},
     "output_type": "display_data"
    },
    {
     "data": {
      "application/javascript": [
       "\n",
       "(function(root) {\n",
       "  function now() {\n",
       "    return new Date();\n",
       "  }\n",
       "\n",
       "  var force = true;\n",
       "\n",
       "  if (typeof root._bokeh_onload_callbacks === \"undefined\" || force === true) {\n",
       "    root._bokeh_onload_callbacks = [];\n",
       "    root._bokeh_is_loading = undefined;\n",
       "  }\n",
       "\n",
       "  var JS_MIME_TYPE = 'application/javascript';\n",
       "  var HTML_MIME_TYPE = 'text/html';\n",
       "  var EXEC_MIME_TYPE = 'application/vnd.bokehjs_exec.v0+json';\n",
       "  var CLASS_NAME = 'output_bokeh rendered_html';\n",
       "\n",
       "  /**\n",
       "   * Render data to the DOM node\n",
       "   */\n",
       "  function render(props, node) {\n",
       "    var script = document.createElement(\"script\");\n",
       "    node.appendChild(script);\n",
       "  }\n",
       "\n",
       "  /**\n",
       "   * Handle when an output is cleared or removed\n",
       "   */\n",
       "  function handleClearOutput(event, handle) {\n",
       "    var cell = handle.cell;\n",
       "\n",
       "    var id = cell.output_area._bokeh_element_id;\n",
       "    var server_id = cell.output_area._bokeh_server_id;\n",
       "    // Clean up Bokeh references\n",
       "    if (id != null && id in Bokeh.index) {\n",
       "      Bokeh.index[id].model.document.clear();\n",
       "      delete Bokeh.index[id];\n",
       "    }\n",
       "\n",
       "    if (server_id !== undefined) {\n",
       "      // Clean up Bokeh references\n",
       "      var cmd = \"from bokeh.io.state import curstate; print(curstate().uuid_to_server['\" + server_id + \"'].get_sessions()[0].document.roots[0]._id)\";\n",
       "      cell.notebook.kernel.execute(cmd, {\n",
       "        iopub: {\n",
       "          output: function(msg) {\n",
       "            var id = msg.content.text.trim();\n",
       "            if (id in Bokeh.index) {\n",
       "              Bokeh.index[id].model.document.clear();\n",
       "              delete Bokeh.index[id];\n",
       "            }\n",
       "          }\n",
       "        }\n",
       "      });\n",
       "      // Destroy server and session\n",
       "      var cmd = \"import bokeh.io.notebook as ion; ion.destroy_server('\" + server_id + \"')\";\n",
       "      cell.notebook.kernel.execute(cmd);\n",
       "    }\n",
       "  }\n",
       "\n",
       "  /**\n",
       "   * Handle when a new output is added\n",
       "   */\n",
       "  function handleAddOutput(event, handle) {\n",
       "    var output_area = handle.output_area;\n",
       "    var output = handle.output;\n",
       "\n",
       "    // limit handleAddOutput to display_data with EXEC_MIME_TYPE content only\n",
       "    if ((output.output_type != \"display_data\") || (!output.data.hasOwnProperty(EXEC_MIME_TYPE))) {\n",
       "      return\n",
       "    }\n",
       "\n",
       "    var toinsert = output_area.element.find(\".\" + CLASS_NAME.split(' ')[0]);\n",
       "\n",
       "    if (output.metadata[EXEC_MIME_TYPE][\"id\"] !== undefined) {\n",
       "      toinsert[toinsert.length - 1].firstChild.textContent = output.data[JS_MIME_TYPE];\n",
       "      // store reference to embed id on output_area\n",
       "      output_area._bokeh_element_id = output.metadata[EXEC_MIME_TYPE][\"id\"];\n",
       "    }\n",
       "    if (output.metadata[EXEC_MIME_TYPE][\"server_id\"] !== undefined) {\n",
       "      var bk_div = document.createElement(\"div\");\n",
       "      bk_div.innerHTML = output.data[HTML_MIME_TYPE];\n",
       "      var script_attrs = bk_div.children[0].attributes;\n",
       "      for (var i = 0; i < script_attrs.length; i++) {\n",
       "        toinsert[toinsert.length - 1].firstChild.setAttribute(script_attrs[i].name, script_attrs[i].value);\n",
       "      }\n",
       "      // store reference to server id on output_area\n",
       "      output_area._bokeh_server_id = output.metadata[EXEC_MIME_TYPE][\"server_id\"];\n",
       "    }\n",
       "  }\n",
       "\n",
       "  function register_renderer(events, OutputArea) {\n",
       "\n",
       "    function append_mime(data, metadata, element) {\n",
       "      // create a DOM node to render to\n",
       "      var toinsert = this.create_output_subarea(\n",
       "        metadata,\n",
       "        CLASS_NAME,\n",
       "        EXEC_MIME_TYPE\n",
       "      );\n",
       "      this.keyboard_manager.register_events(toinsert);\n",
       "      // Render to node\n",
       "      var props = {data: data, metadata: metadata[EXEC_MIME_TYPE]};\n",
       "      render(props, toinsert[toinsert.length - 1]);\n",
       "      element.append(toinsert);\n",
       "      return toinsert\n",
       "    }\n",
       "\n",
       "    /* Handle when an output is cleared or removed */\n",
       "    events.on('clear_output.CodeCell', handleClearOutput);\n",
       "    events.on('delete.Cell', handleClearOutput);\n",
       "\n",
       "    /* Handle when a new output is added */\n",
       "    events.on('output_added.OutputArea', handleAddOutput);\n",
       "\n",
       "    /**\n",
       "     * Register the mime type and append_mime function with output_area\n",
       "     */\n",
       "    OutputArea.prototype.register_mime_type(EXEC_MIME_TYPE, append_mime, {\n",
       "      /* Is output safe? */\n",
       "      safe: true,\n",
       "      /* Index of renderer in `output_area.display_order` */\n",
       "      index: 0\n",
       "    });\n",
       "  }\n",
       "\n",
       "  // register the mime type if in Jupyter Notebook environment and previously unregistered\n",
       "  if (root.Jupyter !== undefined) {\n",
       "    var events = require('base/js/events');\n",
       "    var OutputArea = require('notebook/js/outputarea').OutputArea;\n",
       "\n",
       "    if (OutputArea.prototype.mime_types().indexOf(EXEC_MIME_TYPE) == -1) {\n",
       "      register_renderer(events, OutputArea);\n",
       "    }\n",
       "  }\n",
       "\n",
       "  \n",
       "  if (typeof (root._bokeh_timeout) === \"undefined\" || force === true) {\n",
       "    root._bokeh_timeout = Date.now() + 5000;\n",
       "    root._bokeh_failed_load = false;\n",
       "  }\n",
       "\n",
       "  var NB_LOAD_WARNING = {'data': {'text/html':\n",
       "     \"<div style='background-color: #fdd'>\\n\"+\n",
       "     \"<p>\\n\"+\n",
       "     \"BokehJS does not appear to have successfully loaded. If loading BokehJS from CDN, this \\n\"+\n",
       "     \"may be due to a slow or bad network connection. Possible fixes:\\n\"+\n",
       "     \"</p>\\n\"+\n",
       "     \"<ul>\\n\"+\n",
       "     \"<li>re-rerun `output_notebook()` to attempt to load from CDN again, or</li>\\n\"+\n",
       "     \"<li>use INLINE resources instead, as so:</li>\\n\"+\n",
       "     \"</ul>\\n\"+\n",
       "     \"<code>\\n\"+\n",
       "     \"from bokeh.resources import INLINE\\n\"+\n",
       "     \"output_notebook(resources=INLINE)\\n\"+\n",
       "     \"</code>\\n\"+\n",
       "     \"</div>\"}};\n",
       "\n",
       "  function display_loaded() {\n",
       "    var el = document.getElementById(\"1246\");\n",
       "    if (el != null) {\n",
       "      el.textContent = \"BokehJS is loading...\";\n",
       "    }\n",
       "    if (root.Bokeh !== undefined) {\n",
       "      if (el != null) {\n",
       "        el.textContent = \"BokehJS \" + root.Bokeh.version + \" successfully loaded.\";\n",
       "      }\n",
       "    } else if (Date.now() < root._bokeh_timeout) {\n",
       "      setTimeout(display_loaded, 100)\n",
       "    }\n",
       "  }\n",
       "\n",
       "\n",
       "  function run_callbacks() {\n",
       "    try {\n",
       "      root._bokeh_onload_callbacks.forEach(function(callback) {\n",
       "        if (callback != null)\n",
       "          callback();\n",
       "      });\n",
       "    } finally {\n",
       "      delete root._bokeh_onload_callbacks\n",
       "    }\n",
       "    console.debug(\"Bokeh: all callbacks have finished\");\n",
       "  }\n",
       "\n",
       "  function load_libs(css_urls, js_urls, callback) {\n",
       "    if (css_urls == null) css_urls = [];\n",
       "    if (js_urls == null) js_urls = [];\n",
       "\n",
       "    root._bokeh_onload_callbacks.push(callback);\n",
       "    if (root._bokeh_is_loading > 0) {\n",
       "      console.debug(\"Bokeh: BokehJS is being loaded, scheduling callback at\", now());\n",
       "      return null;\n",
       "    }\n",
       "    if (js_urls == null || js_urls.length === 0) {\n",
       "      run_callbacks();\n",
       "      return null;\n",
       "    }\n",
       "    console.debug(\"Bokeh: BokehJS not loaded, scheduling load and callback at\", now());\n",
       "    root._bokeh_is_loading = css_urls.length + js_urls.length;\n",
       "\n",
       "    function on_load() {\n",
       "      root._bokeh_is_loading--;\n",
       "      if (root._bokeh_is_loading === 0) {\n",
       "        console.debug(\"Bokeh: all BokehJS libraries/stylesheets loaded\");\n",
       "        run_callbacks()\n",
       "      }\n",
       "    }\n",
       "\n",
       "    function on_error() {\n",
       "      console.error(\"failed to load \" + url);\n",
       "    }\n",
       "\n",
       "    for (var i = 0; i < css_urls.length; i++) {\n",
       "      var url = css_urls[i];\n",
       "      const element = document.createElement(\"link\");\n",
       "      element.onload = on_load;\n",
       "      element.onerror = on_error;\n",
       "      element.rel = \"stylesheet\";\n",
       "      element.type = \"text/css\";\n",
       "      element.href = url;\n",
       "      console.debug(\"Bokeh: injecting link tag for BokehJS stylesheet: \", url);\n",
       "      document.body.appendChild(element);\n",
       "    }\n",
       "\n",
       "    for (var i = 0; i < js_urls.length; i++) {\n",
       "      var url = js_urls[i];\n",
       "      var element = document.createElement('script');\n",
       "      element.onload = on_load;\n",
       "      element.onerror = on_error;\n",
       "      element.async = false;\n",
       "      element.src = url;\n",
       "      console.debug(\"Bokeh: injecting script tag for BokehJS library: \", url);\n",
       "      document.head.appendChild(element);\n",
       "    }\n",
       "  };var element = document.getElementById(\"1246\");\n",
       "  if (element == null) {\n",
       "    console.error(\"Bokeh: ERROR: autoload.js configured with elementid '1246' but no matching script tag was found. \")\n",
       "    return false;\n",
       "  }\n",
       "\n",
       "  function inject_raw_css(css) {\n",
       "    const element = document.createElement(\"style\");\n",
       "    element.appendChild(document.createTextNode(css));\n",
       "    document.body.appendChild(element);\n",
       "  }\n",
       "\n",
       "  var js_urls = [\"https://cdn.pydata.org/bokeh/release/bokeh-1.1.0.min.js\", \"https://cdn.pydata.org/bokeh/release/bokeh-widgets-1.1.0.min.js\", \"https://cdn.pydata.org/bokeh/release/bokeh-tables-1.1.0.min.js\", \"https://cdn.pydata.org/bokeh/release/bokeh-gl-1.1.0.min.js\"];\n",
       "  var css_urls = [\"https://cdn.pydata.org/bokeh/release/bokeh-1.1.0.min.css\", \"https://cdn.pydata.org/bokeh/release/bokeh-widgets-1.1.0.min.css\", \"https://cdn.pydata.org/bokeh/release/bokeh-tables-1.1.0.min.css\"];\n",
       "\n",
       "  var inline_js = [\n",
       "    function(Bokeh) {\n",
       "      Bokeh.set_log_level(\"info\");\n",
       "    },\n",
       "    \n",
       "    function(Bokeh) {\n",
       "      \n",
       "    },\n",
       "    function(Bokeh) {} // ensure no trailing comma for IE\n",
       "  ];\n",
       "\n",
       "  function run_inline_js() {\n",
       "    \n",
       "    if ((root.Bokeh !== undefined) || (force === true)) {\n",
       "      for (var i = 0; i < inline_js.length; i++) {\n",
       "        inline_js[i].call(root, root.Bokeh);\n",
       "      }if (force === true) {\n",
       "        display_loaded();\n",
       "      }} else if (Date.now() < root._bokeh_timeout) {\n",
       "      setTimeout(run_inline_js, 100);\n",
       "    } else if (!root._bokeh_failed_load) {\n",
       "      console.log(\"Bokeh: BokehJS failed to load within specified timeout.\");\n",
       "      root._bokeh_failed_load = true;\n",
       "    } else if (force !== true) {\n",
       "      var cell = $(document.getElementById(\"1246\")).parents('.cell').data().cell;\n",
       "      cell.output_area.append_execute_result(NB_LOAD_WARNING)\n",
       "    }\n",
       "\n",
       "  }\n",
       "\n",
       "  if (root._bokeh_is_loading === 0) {\n",
       "    console.debug(\"Bokeh: BokehJS loaded, going straight to plotting\");\n",
       "    run_inline_js();\n",
       "  } else {\n",
       "    load_libs(css_urls, js_urls, function() {\n",
       "      console.debug(\"Bokeh: BokehJS plotting callback run at\", now());\n",
       "      run_inline_js();\n",
       "    });\n",
       "  }\n",
       "}(window));"
      ],
      "application/vnd.bokehjs_load.v0+json": "\n(function(root) {\n  function now() {\n    return new Date();\n  }\n\n  var force = true;\n\n  if (typeof root._bokeh_onload_callbacks === \"undefined\" || force === true) {\n    root._bokeh_onload_callbacks = [];\n    root._bokeh_is_loading = undefined;\n  }\n\n  \n\n  \n  if (typeof (root._bokeh_timeout) === \"undefined\" || force === true) {\n    root._bokeh_timeout = Date.now() + 5000;\n    root._bokeh_failed_load = false;\n  }\n\n  var NB_LOAD_WARNING = {'data': {'text/html':\n     \"<div style='background-color: #fdd'>\\n\"+\n     \"<p>\\n\"+\n     \"BokehJS does not appear to have successfully loaded. If loading BokehJS from CDN, this \\n\"+\n     \"may be due to a slow or bad network connection. Possible fixes:\\n\"+\n     \"</p>\\n\"+\n     \"<ul>\\n\"+\n     \"<li>re-rerun `output_notebook()` to attempt to load from CDN again, or</li>\\n\"+\n     \"<li>use INLINE resources instead, as so:</li>\\n\"+\n     \"</ul>\\n\"+\n     \"<code>\\n\"+\n     \"from bokeh.resources import INLINE\\n\"+\n     \"output_notebook(resources=INLINE)\\n\"+\n     \"</code>\\n\"+\n     \"</div>\"}};\n\n  function display_loaded() {\n    var el = document.getElementById(\"1246\");\n    if (el != null) {\n      el.textContent = \"BokehJS is loading...\";\n    }\n    if (root.Bokeh !== undefined) {\n      if (el != null) {\n        el.textContent = \"BokehJS \" + root.Bokeh.version + \" successfully loaded.\";\n      }\n    } else if (Date.now() < root._bokeh_timeout) {\n      setTimeout(display_loaded, 100)\n    }\n  }\n\n\n  function run_callbacks() {\n    try {\n      root._bokeh_onload_callbacks.forEach(function(callback) {\n        if (callback != null)\n          callback();\n      });\n    } finally {\n      delete root._bokeh_onload_callbacks\n    }\n    console.debug(\"Bokeh: all callbacks have finished\");\n  }\n\n  function load_libs(css_urls, js_urls, callback) {\n    if (css_urls == null) css_urls = [];\n    if (js_urls == null) js_urls = [];\n\n    root._bokeh_onload_callbacks.push(callback);\n    if (root._bokeh_is_loading > 0) {\n      console.debug(\"Bokeh: BokehJS is being loaded, scheduling callback at\", now());\n      return null;\n    }\n    if (js_urls == null || js_urls.length === 0) {\n      run_callbacks();\n      return null;\n    }\n    console.debug(\"Bokeh: BokehJS not loaded, scheduling load and callback at\", now());\n    root._bokeh_is_loading = css_urls.length + js_urls.length;\n\n    function on_load() {\n      root._bokeh_is_loading--;\n      if (root._bokeh_is_loading === 0) {\n        console.debug(\"Bokeh: all BokehJS libraries/stylesheets loaded\");\n        run_callbacks()\n      }\n    }\n\n    function on_error() {\n      console.error(\"failed to load \" + url);\n    }\n\n    for (var i = 0; i < css_urls.length; i++) {\n      var url = css_urls[i];\n      const element = document.createElement(\"link\");\n      element.onload = on_load;\n      element.onerror = on_error;\n      element.rel = \"stylesheet\";\n      element.type = \"text/css\";\n      element.href = url;\n      console.debug(\"Bokeh: injecting link tag for BokehJS stylesheet: \", url);\n      document.body.appendChild(element);\n    }\n\n    for (var i = 0; i < js_urls.length; i++) {\n      var url = js_urls[i];\n      var element = document.createElement('script');\n      element.onload = on_load;\n      element.onerror = on_error;\n      element.async = false;\n      element.src = url;\n      console.debug(\"Bokeh: injecting script tag for BokehJS library: \", url);\n      document.head.appendChild(element);\n    }\n  };var element = document.getElementById(\"1246\");\n  if (element == null) {\n    console.error(\"Bokeh: ERROR: autoload.js configured with elementid '1246' but no matching script tag was found. \")\n    return false;\n  }\n\n  function inject_raw_css(css) {\n    const element = document.createElement(\"style\");\n    element.appendChild(document.createTextNode(css));\n    document.body.appendChild(element);\n  }\n\n  var js_urls = [\"https://cdn.pydata.org/bokeh/release/bokeh-1.1.0.min.js\", \"https://cdn.pydata.org/bokeh/release/bokeh-widgets-1.1.0.min.js\", \"https://cdn.pydata.org/bokeh/release/bokeh-tables-1.1.0.min.js\", \"https://cdn.pydata.org/bokeh/release/bokeh-gl-1.1.0.min.js\"];\n  var css_urls = [\"https://cdn.pydata.org/bokeh/release/bokeh-1.1.0.min.css\", \"https://cdn.pydata.org/bokeh/release/bokeh-widgets-1.1.0.min.css\", \"https://cdn.pydata.org/bokeh/release/bokeh-tables-1.1.0.min.css\"];\n\n  var inline_js = [\n    function(Bokeh) {\n      Bokeh.set_log_level(\"info\");\n    },\n    \n    function(Bokeh) {\n      \n    },\n    function(Bokeh) {} // ensure no trailing comma for IE\n  ];\n\n  function run_inline_js() {\n    \n    if ((root.Bokeh !== undefined) || (force === true)) {\n      for (var i = 0; i < inline_js.length; i++) {\n        inline_js[i].call(root, root.Bokeh);\n      }if (force === true) {\n        display_loaded();\n      }} else if (Date.now() < root._bokeh_timeout) {\n      setTimeout(run_inline_js, 100);\n    } else if (!root._bokeh_failed_load) {\n      console.log(\"Bokeh: BokehJS failed to load within specified timeout.\");\n      root._bokeh_failed_load = true;\n    } else if (force !== true) {\n      var cell = $(document.getElementById(\"1246\")).parents('.cell').data().cell;\n      cell.output_area.append_execute_result(NB_LOAD_WARNING)\n    }\n\n  }\n\n  if (root._bokeh_is_loading === 0) {\n    console.debug(\"Bokeh: BokehJS loaded, going straight to plotting\");\n    run_inline_js();\n  } else {\n    load_libs(css_urls, js_urls, function() {\n      console.debug(\"Bokeh: BokehJS plotting callback run at\", now());\n      run_inline_js();\n    });\n  }\n}(window));"
     },
     "metadata": {},
     "output_type": "display_data"
    },
    {
     "data": {
      "text/html": [
       "\n",
       "\n",
       "\n",
       "\n",
       "\n",
       "\n",
       "  <div class=\"bk-root\" id=\"1be0db52-2003-4a55-ad37-68088a89a09f\" data-root-id=\"1249\"></div>\n"
      ]
     },
     "metadata": {},
     "output_type": "display_data"
    },
    {
     "data": {
      "application/javascript": [
       "(function(root) {\n",
       "  function embed_document(root) {\n",
       "    \n",
       "  var docs_json = {\"e50213d7-3774-4c3e-ac93-c1a57147fb82\":{\"roots\":{\"references\":[{\"attributes\":{\"below\":[{\"id\":\"1260\",\"type\":\"DatetimeAxis\"}],\"center\":[{\"id\":\"1264\",\"type\":\"Grid\"},{\"id\":\"1269\",\"type\":\"Grid\"},{\"id\":\"1306\",\"type\":\"Legend\"}],\"left\":[{\"id\":\"1265\",\"type\":\"LinearAxis\"}],\"plot_height\":400,\"plot_width\":900,\"renderers\":[{\"id\":\"1286\",\"type\":\"GlyphRenderer\"}],\"title\":{\"id\":\"1250\",\"type\":\"Title\"},\"toolbar\":{\"id\":\"1276\",\"type\":\"Toolbar\"},\"x_range\":{\"id\":\"1252\",\"type\":\"DataRange1d\"},\"x_scale\":{\"id\":\"1256\",\"type\":\"LinearScale\"},\"y_range\":{\"id\":\"1254\",\"type\":\"DataRange1d\"},\"y_scale\":{\"id\":\"1258\",\"type\":\"LinearScale\"}},\"id\":\"1249\",\"subtype\":\"Figure\",\"type\":\"Plot\"},{\"attributes\":{\"days\":[1,8,15,22]},\"id\":\"1298\",\"type\":\"DaysTicker\"},{\"attributes\":{\"days\":[1,4,7,10,13,16,19,22,25,28]},\"id\":\"1297\",\"type\":\"DaysTicker\"},{\"attributes\":{\"data_source\":{\"id\":\"1247\",\"type\":\"ColumnDataSource\"},\"glyph\":{\"id\":\"1284\",\"type\":\"Line\"},\"hover_glyph\":null,\"muted_glyph\":null,\"nonselection_glyph\":{\"id\":\"1285\",\"type\":\"Line\"},\"selection_glyph\":null,\"view\":{\"id\":\"1287\",\"type\":\"CDSView\"}},\"id\":\"1286\",\"type\":\"GlyphRenderer\"},{\"attributes\":{\"days\":[1,2,3,4,5,6,7,8,9,10,11,12,13,14,15,16,17,18,19,20,21,22,23,24,25,26,27,28,29,30,31]},\"id\":\"1296\",\"type\":\"DaysTicker\"},{\"attributes\":{\"base\":24,\"mantissas\":[1,2,4,6,8,12],\"max_interval\":43200000.0,\"min_interval\":3600000.0,\"num_minor_ticks\":0},\"id\":\"1295\",\"type\":\"AdaptiveTicker\"},{\"attributes\":{\"text\":\"02336000 at \\t Site number: Chatahooche River Atlanta \\t Location: Gage Height feet\"},\"id\":\"1250\",\"type\":\"Title\"},{\"attributes\":{\"base\":60,\"mantissas\":[1,2,5,10,15,20,30],\"max_interval\":1800000.0,\"min_interval\":1000.0,\"num_minor_ticks\":0},\"id\":\"1294\",\"type\":\"AdaptiveTicker\"},{\"attributes\":{\"callback\":null},\"id\":\"1254\",\"type\":\"DataRange1d\"},{\"attributes\":{\"days\":[1,15]},\"id\":\"1299\",\"type\":\"DaysTicker\"},{\"attributes\":{\"callback\":null},\"id\":\"1252\",\"type\":\"DataRange1d\"},{\"attributes\":{\"source\":{\"id\":\"1247\",\"type\":\"ColumnDataSource\"}},\"id\":\"1287\",\"type\":\"CDSView\"},{\"attributes\":{\"overlay\":{\"id\":\"1305\",\"type\":\"BoxAnnotation\"}},\"id\":\"1272\",\"type\":\"BoxZoomTool\"},{\"attributes\":{},\"id\":\"1258\",\"type\":\"LinearScale\"},{\"attributes\":{\"mantissas\":[1,2,5],\"max_interval\":500.0,\"num_minor_ticks\":0},\"id\":\"1293\",\"type\":\"AdaptiveTicker\"},{\"attributes\":{\"active_drag\":\"auto\",\"active_inspect\":\"auto\",\"active_multi\":null,\"active_scroll\":\"auto\",\"active_tap\":\"auto\",\"tools\":[{\"id\":\"1270\",\"type\":\"PanTool\"},{\"id\":\"1271\",\"type\":\"WheelZoomTool\"},{\"id\":\"1272\",\"type\":\"BoxZoomTool\"},{\"id\":\"1273\",\"type\":\"SaveTool\"},{\"id\":\"1274\",\"type\":\"ResetTool\"},{\"id\":\"1275\",\"type\":\"HelpTool\"},{\"id\":\"1248\",\"type\":\"HoverTool\"}]},\"id\":\"1276\",\"type\":\"Toolbar\"},{\"attributes\":{\"months\":[0,1,2,3,4,5,6,7,8,9,10,11]},\"id\":\"1300\",\"type\":\"MonthsTicker\"},{\"attributes\":{},\"id\":\"1256\",\"type\":\"LinearScale\"},{\"attributes\":{},\"id\":\"1273\",\"type\":\"SaveTool\"},{\"attributes\":{},\"id\":\"1271\",\"type\":\"WheelZoomTool\"},{\"attributes\":{},\"id\":\"1291\",\"type\":\"DatetimeTickFormatter\"},{\"attributes\":{},\"id\":\"1275\",\"type\":\"HelpTool\"},{\"attributes\":{\"months\":[0,2,4,6,8,10]},\"id\":\"1301\",\"type\":\"MonthsTicker\"},{\"attributes\":{\"months\":[0,6]},\"id\":\"1303\",\"type\":\"MonthsTicker\"},{\"attributes\":{\"axis_label\":\"Date\",\"formatter\":{\"id\":\"1291\",\"type\":\"DatetimeTickFormatter\"},\"major_label_orientation\":0.7853981633974483,\"ticker\":{\"id\":\"1261\",\"type\":\"DatetimeTicker\"}},\"id\":\"1260\",\"type\":\"DatetimeAxis\"},{\"attributes\":{\"months\":[0,4,8]},\"id\":\"1302\",\"type\":\"MonthsTicker\"},{\"attributes\":{\"num_minor_ticks\":5,\"tickers\":[{\"id\":\"1293\",\"type\":\"AdaptiveTicker\"},{\"id\":\"1294\",\"type\":\"AdaptiveTicker\"},{\"id\":\"1295\",\"type\":\"AdaptiveTicker\"},{\"id\":\"1296\",\"type\":\"DaysTicker\"},{\"id\":\"1297\",\"type\":\"DaysTicker\"},{\"id\":\"1298\",\"type\":\"DaysTicker\"},{\"id\":\"1299\",\"type\":\"DaysTicker\"},{\"id\":\"1300\",\"type\":\"MonthsTicker\"},{\"id\":\"1301\",\"type\":\"MonthsTicker\"},{\"id\":\"1302\",\"type\":\"MonthsTicker\"},{\"id\":\"1303\",\"type\":\"MonthsTicker\"},{\"id\":\"1304\",\"type\":\"YearsTicker\"}]},\"id\":\"1261\",\"type\":\"DatetimeTicker\"},{\"attributes\":{},\"id\":\"1327\",\"type\":\"UnionRenderers\"},{\"attributes\":{\"axis_label\":\"Gage Height feet\",\"formatter\":{\"id\":\"1289\",\"type\":\"BasicTickFormatter\"},\"ticker\":{\"id\":\"1266\",\"type\":\"BasicTicker\"}},\"id\":\"1265\",\"type\":\"LinearAxis\"},{\"attributes\":{},\"id\":\"1304\",\"type\":\"YearsTicker\"},{\"attributes\":{\"callback\":null,\"data\":{\"00010\":{\"__ndarray__\":\"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\",\"dtype\":\"float64\",\"shape\":[288]},\"00060\":{\"__ndarray__\":\"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\",\"dtype\":\"float64\",\"shape\":[288]},\"00065\":{\"__ndarray__\":\"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\",\"dtype\":\"float64\",\"shape\":[288]},\"00095\":{\"__ndarray__\":\"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\",\"dtype\":\"float64\",\"shape\":[288]},\"63680\":{\"__ndarray__\":\"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\",\"dtype\":\"float64\",\"shape\":[288]},\"date\":{\"__ndarray__\":\"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\",\"dtype\":\"float64\",\"shape\":[288]},\"time\":[57600000.0,58500000.0,59400000.0,60300000.0,61200000.0,62100000.0,63000000.0,63900000.0,64800000.0,65700000.0,66600000.0,67500000.0,68400000.0,69300000.0,70200000.0,71100000.0,72000000.0,72900000.0,73800000.0,74700000.0,75600000.0,76500000.0,77400000.0,78300000.0,79200000.0,80100000.0,81000000.0,81900000.0,82800000.0,83700000.0,84600000.0,85500000.0,0.0,900000.0,1800000.0,2700000.0,3600000.0,4500000.0,5400000.0,6300000.0,7200000.0,8100000.0,9000000.0,9900000.0,10800000.0,11700000.0,12600000.0,13500000.0,14400000.0,15300000.0,16200000.0,17100000.0,18000000.0,18900000.0,19800000.0,20700000.0,21600000.0,22500000.0,23400000.0,24300000.0,25200000.0,26100000.0,27000000.0,27900000.0,28800000.0,29700000.0,30600000.0,31500000.0,32400000.0,33300000.0,34200000.0,35100000.0,36000000.0,36900000.0,37800000.0,38700000.0,39600000.0,40500000.0,41400000.0,42300000.0,43200000.0,44100000.0,45000000.0,45900000.0,46800000.0,47700000.0,48600000.0,49500000.0,50400000.0,51300000.0,52200000.0,53100000.0,54000000.0,54900000.0,55800000.0,56700000.0,57600000.0,58500000.0,59400000.0,60300000.0,61200000.0,62100000.0,63000000.0,63900000.0,64800000.0,65700000.0,66600000.0,67500000.0,68400000.0,69300000.0,70200000.0,71100000.0,72000000.0,72900000.0,73800000.0,74700000.0,75600000.0,76500000.0,77400000.0,78300000.0,79200000.0,80100000.0,81000000.0,81900000.0,82800000.0,83700000.0,84600000.0,85500000.0,0.0,900000.0,1800000.0,2700000.0,3600000.0,4500000.0,5400000.0,6300000.0,7200000.0,8100000.0,9000000.0,9900000.0,10800000.0,11700000.0,12600000.0,13500000.0,14400000.0,15300000.0,16200000.0,17100000.0,18000000.0,18900000.0,19800000.0,20700000.0,21600000.0,22500000.0,23400000.0,24300000.0,25200000.0,26100000.0,27000000.0,27900000.0,28800000.0,29700000.0,30600000.0,31500000.0,32400000.0,33300000.0,34200000.0,35100000.0,36000000.0,36900000.0,37800000.0,38700000.0,39600000.0,40500000.0,41400000.0,42300000.0,43200000.0,44100000.0,45000000.0,45900000.0,46800000.0,47700000.0,48600000.0,49500000.0,50400000.0,51300000.0,52200000.0,53100000.0,54000000.0,54900000.0,55800000.0,56700000.0,57600000.0,58500000.0,59400000.0,60300000.0,61200000.0,62100000.0,63000000.0,63900000.0,64800000.0,65700000.0,66600000.0,67500000.0,68400000.0,69300000.0,70200000.0,71100000.0,72000000.0,72900000.0,73800000.0,74700000.0,75600000.0,76500000.0,77400000.0,78300000.0,79200000.0,80100000.0,81000000.0,81900000.0,82800000.0,83700000.0,84600000.0,85500000.0,0.0,900000.0,1800000.0,2700000.0,3600000.0,4500000.0,5400000.0,6300000.0,7200000.0,8100000.0,9000000.0,9900000.0,10800000.0,11700000.0,12600000.0,13500000.0,14400000.0,15300000.0,16200000.0,17100000.0,18000000.0,18900000.0,19800000.0,20700000.0,21600000.0,22500000.0,23400000.0,24300000.0,25200000.0,26100000.0,27000000.0,27900000.0,28800000.0,29700000.0,30600000.0,31500000.0,32400000.0,33300000.0,34200000.0,35100000.0,36000000.0,36900000.0,37800000.0,38700000.0,39600000.0,40500000.0,41400000.0,42300000.0,43200000.0,44100000.0,45000000.0,45900000.0,46800000.0,47700000.0,48600000.0,49500000.0,50400000.0,51300000.0,52200000.0,53100000.0,54000000.0,54900000.0,55800000.0,56700000.0]},\"selected\":{\"id\":\"1326\",\"type\":\"Selection\"},\"selection_policy\":{\"id\":\"1327\",\"type\":\"UnionRenderers\"}},\"id\":\"1247\",\"type\":\"ColumnDataSource\"},{\"attributes\":{\"ticker\":{\"id\":\"1261\",\"type\":\"DatetimeTicker\"}},\"id\":\"1264\",\"type\":\"Grid\"},{\"attributes\":{\"bottom_units\":\"screen\",\"fill_alpha\":{\"value\":0.5},\"fill_color\":{\"value\":\"lightgrey\"},\"left_units\":\"screen\",\"level\":\"overlay\",\"line_alpha\":{\"value\":1.0},\"line_color\":{\"value\":\"black\"},\"line_dash\":[4,4],\"line_width\":{\"value\":2},\"render_mode\":\"css\",\"right_units\":\"screen\",\"top_units\":\"screen\"},\"id\":\"1305\",\"type\":\"BoxAnnotation\"},{\"attributes\":{},\"id\":\"1289\",\"type\":\"BasicTickFormatter\"},{\"attributes\":{\"dimension\":1,\"ticker\":{\"id\":\"1266\",\"type\":\"BasicTicker\"}},\"id\":\"1269\",\"type\":\"Grid\"},{\"attributes\":{\"callback\":null,\"formatters\":{\"discharge\":\"printf\",\"gage\":\"printf\",\"temp_c\":\"printf\",\"time\":\"datetime\"},\"mode\":\"vline\",\"tooltips\":[[\"Time\",\"@time{%H:%M}\"],[\"Discharge (cubic feet/second)\",\"@00060\"],[\"Gage Height (feet) \",\"@00065\"],[\"Water Temperature (Celsius)\",\"@00010\"],[\"Condcutivity\",\"@00095\"],[\"Turbidity\",\"@63680\"]]},\"id\":\"1248\",\"type\":\"HoverTool\"},{\"attributes\":{\"line_color\":\"darkorchid\",\"x\":{\"field\":\"date\"},\"y\":{\"field\":\"00065\"}},\"id\":\"1284\",\"type\":\"Line\"},{\"attributes\":{},\"id\":\"1266\",\"type\":\"BasicTicker\"},{\"attributes\":{\"label\":{\"value\":\"Gage\"},\"renderers\":[{\"id\":\"1286\",\"type\":\"GlyphRenderer\"}]},\"id\":\"1307\",\"type\":\"LegendItem\"},{\"attributes\":{},\"id\":\"1326\",\"type\":\"Selection\"},{\"attributes\":{\"items\":[{\"id\":\"1307\",\"type\":\"LegendItem\"}]},\"id\":\"1306\",\"type\":\"Legend\"},{\"attributes\":{\"line_alpha\":0.1,\"line_color\":\"#1f77b4\",\"x\":{\"field\":\"date\"},\"y\":{\"field\":\"00065\"}},\"id\":\"1285\",\"type\":\"Line\"},{\"attributes\":{},\"id\":\"1270\",\"type\":\"PanTool\"},{\"attributes\":{},\"id\":\"1274\",\"type\":\"ResetTool\"}],\"root_ids\":[\"1249\"]},\"title\":\"Bokeh Application\",\"version\":\"1.1.0\"}};\n",
       "  var render_items = [{\"docid\":\"e50213d7-3774-4c3e-ac93-c1a57147fb82\",\"roots\":{\"1249\":\"1be0db52-2003-4a55-ad37-68088a89a09f\"}}];\n",
       "  root.Bokeh.embed.embed_items_notebook(docs_json, render_items);\n",
       "\n",
       "  }\n",
       "  if (root.Bokeh !== undefined) {\n",
       "    embed_document(root);\n",
       "  } else {\n",
       "    var attempts = 0;\n",
       "    var timer = setInterval(function(root) {\n",
       "      if (root.Bokeh !== undefined) {\n",
       "        embed_document(root);\n",
       "        clearInterval(timer);\n",
       "      }\n",
       "      attempts++;\n",
       "      if (attempts > 100) {\n",
       "        console.log(\"Bokeh: ERROR: Unable to run BokehJS code because BokehJS library is missing\");\n",
       "        clearInterval(timer);\n",
       "      }\n",
       "    }, 10, root)\n",
       "  }\n",
       "})(window);"
      ],
      "application/vnd.bokehjs_exec.v0+json": ""
     },
     "metadata": {
      "application/vnd.bokehjs_exec.v0+json": {
       "id": "1249"
      }
     },
     "output_type": "display_data"
    }
   ],
   "source": [
    "output_notebook()\n",
    "date_plot(usgs, sensor = '00065')"
   ]
  },
  {
   "cell_type": "code",
   "execution_count": 16,
   "metadata": {},
   "outputs": [],
   "source": [
    "reset_output()\n",
    "date_plot(usgs,sensor = '00010')  "
   ]
  },
  {
   "cell_type": "code",
   "execution_count": null,
   "metadata": {},
   "outputs": [],
   "source": [
    "date_plot(usgs, sensor = '63680')"
   ]
  },
  {
   "cell_type": "markdown",
   "metadata": {},
   "source": [
    "## Modifying Function for Flask\n",
    "We need to push a two part plot to flask in the form of `div` and `script` this is accomplished using `components( )` to separate out the parts"
   ]
  },
  {
   "cell_type": "code",
   "execution_count": 17,
   "metadata": {},
   "outputs": [],
   "source": [
    "def date_plot(data, sensor, site = site, sensor_dict=sensor_dict, location_dict=location_dict):\n",
    "    source, hov = sourcer(usgs)\n",
    "    p = figure(plot_width=900, plot_height=400, title=\"{} at \\t Site number: {} \\t Location: {}\".format(site, location_dict[site], sensor_dict[sensor]), x_axis_type=\"datetime\")\n",
    "    p.line(x='date', y = sensor, color='#eb1736', legend= sensor_dict[sensor].split()[0], source = source)\n",
    "    p.xaxis.axis_label = 'Date'\n",
    "    p.yaxis.axis_label = sensor_dict[sensor]\n",
    "    p.xaxis.major_label_orientation = math.pi/4\n",
    "    p.add_tools(hov)\n",
    "    #show(p)\n",
    "    return(components(p))"
   ]
  },
  {
   "cell_type": "code",
   "execution_count": 18,
   "metadata": {},
   "outputs": [],
   "source": [
    "script, div = date_plot(usgs, sensor = '63680')"
   ]
  },
  {
   "cell_type": "markdown",
   "metadata": {},
   "source": [
    "### What We are Passing to Flask"
   ]
  },
  {
   "cell_type": "code",
   "execution_count": 19,
   "metadata": {},
   "outputs": [
    {
     "data": {
      "text/plain": [
       "'\\n<script type=\"text/javascript\">\\n  (function() {\\n    var fn = function() {\\n      Bokeh.safely(function() {\\n        (function(root) {\\n          function embed_document(root) {\\n            \\n          var docs_json = \\'{\"c252c539-5443-41b7-a4d5-bbcd3d2044a9\":{\"roots\":{\"references\":[{\"attributes\":{\"mantissas\":[1,2,5],\"max_interval\":500.0,\"num_minor_ticks\":0},\"id\":\"1960\",\"type\":\"AdaptiveTicker\"},{\"attributes\":{},\"id\":\"1958\",\"type\":\"DatetimeTickFormatter\"},{\"attributes\":{\"text\":\"02336000 at \\\\\\\\t Site number: Chatahooche River Atlanta \\\\\\\\t Location: Turbidity\"},\"id\":\"1917\",\"type\":\"Title\"},{\"attributes\":{\"base\":60,\"mantissas\":[1,2,5,10,15,20,30],\"max_interval\":1800000.0,\"min_interval\":1000.0,\"num_minor_ticks\":0},\"id\":\"1961\",\"type\":\"AdaptiveTicker\"},{\"attributes\":{},\"id\":\"1993\",\"type\":\"Selection\"},{\"attributes\":{\"bottom_units\":\"screen\",\"fill_alpha\":{\"value\":0.5},\"fill_color\":{\"value\":\"lightgrey\"},\"left_units\":\"screen\",\"level\":\"overlay\",\"line_alpha\":{\"value\":1.0},\"line_color\":{\"value\":\"black\"},\"line_dash\":[4,4],\"line_width\":{\"value\":2},\"render_mode\":\"css\",\"right_units\":\"screen\",\"top_units\":\"screen\"},\"id\":\"1972\",\"type\":\"BoxAnnotation\"},{\"attributes\":{\"label\":{\"value\":\"Turbidity\"},\"renderers\":[{\"id\":\"1953\",\"type\":\"GlyphRenderer\"}]},\"id\":\"1974\",\"type\":\"LegendItem\"},{\"attributes\":{\"source\":{\"id\":\"1914\",\"type\":\"ColumnDataSource\"}},\"id\":\"1954\",\"type\":\"CDSView\"},{\"attributes\":{\"months\":[0,6]},\"id\":\"1970\",\"type\":\"MonthsTicker\"},{\"attributes\":{\"below\":[{\"id\":\"1927\",\"type\":\"DatetimeAxis\"}],\"center\":[{\"id\":\"1931\",\"type\":\"Grid\"},{\"id\":\"1936\",\"type\":\"Grid\"},{\"id\":\"1973\",\"type\":\"Legend\"}],\"left\":[{\"id\":\"1932\",\"type\":\"LinearAxis\"}],\"plot_height\":400,\"plot_width\":900,\"renderers\":[{\"id\":\"1953\",\"type\":\"GlyphRenderer\"}],\"title\":{\"id\":\"1917\",\"type\":\"Title\"},\"toolbar\":{\"id\":\"1943\",\"type\":\"Toolbar\"},\"x_range\":{\"id\":\"1919\",\"type\":\"DataRange1d\"},\"x_scale\":{\"id\":\"1923\",\"type\":\"LinearScale\"},\"y_range\":{\"id\":\"1921\",\"type\":\"DataRange1d\"},\"y_scale\":{\"id\":\"1925\",\"type\":\"LinearScale\"}},\"id\":\"1916\",\"subtype\":\"Figure\",\"type\":\"Plot\"},{\"attributes\":{},\"id\":\"1933\",\"type\":\"BasicTicker\"},{\"attributes\":{\"months\":[0,4,8]},\"id\":\"1969\",\"type\":\"MonthsTicker\"},{\"attributes\":{\"days\":[1,4,7,10,13,16,19,22,25,28]},\"id\":\"1964\",\"type\":\"DaysTicker\"},{\"attributes\":{\"num_minor_ticks\":5,\"tickers\":[{\"id\":\"1960\",\"type\":\"AdaptiveTicker\"},{\"id\":\"1961\",\"type\":\"AdaptiveTicker\"},{\"id\":\"1962\",\"type\":\"AdaptiveTicker\"},{\"id\":\"1963\",\"type\":\"DaysTicker\"},{\"id\":\"1964\",\"type\":\"DaysTicker\"},{\"id\":\"1965\",\"type\":\"DaysTicker\"},{\"id\":\"1966\",\"type\":\"DaysTicker\"},{\"id\":\"1967\",\"type\":\"MonthsTicker\"},{\"id\":\"1968\",\"type\":\"MonthsTicker\"},{\"id\":\"1969\",\"type\":\"MonthsTicker\"},{\"id\":\"1970\",\"type\":\"MonthsTicker\"},{\"id\":\"1971\",\"type\":\"YearsTicker\"}]},\"id\":\"1928\",\"type\":\"DatetimeTicker\"},{\"attributes\":{},\"id\":\"1956\",\"type\":\"BasicTickFormatter\"},{\"attributes\":{\"callback\":null},\"id\":\"1921\",\"type\":\"DataRange1d\"},{\"attributes\":{},\"id\":\"1994\",\"type\":\"UnionRenderers\"},{\"attributes\":{\"days\":[1,2,3,4,5,6,7,8,9,10,11,12,13,14,15,16,17,18,19,20,21,22,23,24,25,26,27,28,29,30,31]},\"id\":\"1963\",\"type\":\"DaysTicker\"},{\"attributes\":{\"line_alpha\":0.1,\"line_color\":\"#1f77b4\",\"x\":{\"field\":\"date\"},\"y\":{\"field\":\"63680\"}},\"id\":\"1952\",\"type\":\"Line\"},{\"attributes\":{\"ticker\":{\"id\":\"1928\",\"type\":\"DatetimeTicker\"}},\"id\":\"1931\",\"type\":\"Grid\"},{\"attributes\":{\"months\":[0,2,4,6,8,10]},\"id\":\"1968\",\"type\":\"MonthsTicker\"},{\"attributes\":{\"line_color\":\"#eb1736\",\"x\":{\"field\":\"date\"},\"y\":{\"field\":\"63680\"}},\"id\":\"1951\",\"type\":\"Line\"},{\"attributes\":{\"axis_label\":\"Turbidity\",\"formatter\":{\"id\":\"1956\",\"type\":\"BasicTickFormatter\"},\"ticker\":{\"id\":\"1933\",\"type\":\"BasicTicker\"}},\"id\":\"1932\",\"type\":\"LinearAxis\"},{\"attributes\":{},\"id\":\"1941\",\"type\":\"ResetTool\"},{\"attributes\":{\"months\":[0,1,2,3,4,5,6,7,8,9,10,11]},\"id\":\"1967\",\"type\":\"MonthsTicker\"},{\"attributes\":{\"callback\":null},\"id\":\"1919\",\"type\":\"DataRange1d\"},{\"attributes\":{\"active_drag\":\"auto\",\"active_inspect\":\"auto\",\"active_multi\":null,\"active_scroll\":\"auto\",\"active_tap\":\"auto\",\"tools\":[{\"id\":\"1937\",\"type\":\"PanTool\"},{\"id\":\"1938\",\"type\":\"WheelZoomTool\"},{\"id\":\"1939\",\"type\":\"BoxZoomTool\"},{\"id\":\"1940\",\"type\":\"SaveTool\"},{\"id\":\"1941\",\"type\":\"ResetTool\"},{\"id\":\"1942\",\"type\":\"HelpTool\"},{\"id\":\"1915\",\"type\":\"HoverTool\"}]},\"id\":\"1943\",\"type\":\"Toolbar\"},{\"attributes\":{},\"id\":\"1940\",\"type\":\"SaveTool\"},{\"attributes\":{},\"id\":\"1942\",\"type\":\"HelpTool\"},{\"attributes\":{\"items\":[{\"id\":\"1974\",\"type\":\"LegendItem\"}]},\"id\":\"1973\",\"type\":\"Legend\"},{\"attributes\":{\"callback\":null,\"formatters\":{\"discharge\":\"printf\",\"gage\":\"printf\",\"temp_c\":\"printf\",\"time\":\"datetime\"},\"mode\":\"vline\",\"tooltips\":[[\"Time\",\"@time{%H:%M}\"],[\"Discharge (cubic feet/second)\",\"@00060\"],[\"Gage Height (feet) \",\"@00065\"],[\"Water Temperature (Celsius)\",\"@00010\"],[\"Condcutivity\",\"@00095\"],[\"Turbidity\",\"@63680\"]]},\"id\":\"1915\",\"type\":\"HoverTool\"},{\"attributes\":{},\"id\":\"1937\",\"type\":\"PanTool\"},{\"attributes\":{\"days\":[1,15]},\"id\":\"1966\",\"type\":\"DaysTicker\"},{\"attributes\":{\"days\":[1,8,15,22]},\"id\":\"1965\",\"type\":\"DaysTicker\"},{\"attributes\":{\"dimension\":1,\"ticker\":{\"id\":\"1933\",\"type\":\"BasicTicker\"}},\"id\":\"1936\",\"type\":\"Grid\"},{\"attributes\":{\"data_source\":{\"id\":\"1914\",\"type\":\"ColumnDataSource\"},\"glyph\":{\"id\":\"1951\",\"type\":\"Line\"},\"hover_glyph\":null,\"muted_glyph\":null,\"nonselection_glyph\":{\"id\":\"1952\",\"type\":\"Line\"},\"selection_glyph\":null,\"view\":{\"id\":\"1954\",\"type\":\"CDSView\"}},\"id\":\"1953\",\"type\":\"GlyphRenderer\"},{\"attributes\":{},\"id\":\"1923\",\"type\":\"LinearScale\"},{\"attributes\":{\"base\":24,\"mantissas\":[1,2,4,6,8,12],\"max_interval\":43200000.0,\"min_interval\":3600000.0,\"num_minor_ticks\":0},\"id\":\"1962\",\"type\":\"AdaptiveTicker\"},{\"attributes\":{},\"id\":\"1938\",\"type\":\"WheelZoomTool\"},{\"attributes\":{},\"id\":\"1925\",\"type\":\"LinearScale\"},{\"attributes\":{},\"id\":\"1971\",\"type\":\"YearsTicker\"},{\"attributes\":{\"axis_label\":\"Date\",\"formatter\":{\"id\":\"1958\",\"type\":\"DatetimeTickFormatter\"},\"major_label_orientation\":0.7853981633974483,\"ticker\":{\"id\":\"1928\",\"type\":\"DatetimeTicker\"}},\"id\":\"1927\",\"type\":\"DatetimeAxis\"},{\"attributes\":{\"overlay\":{\"id\":\"1972\",\"type\":\"BoxAnnotation\"}},\"id\":\"1939\",\"type\":\"BoxZoomTool\"},{\"attributes\":{\"callback\":null,\"data\":{\"00010\":{\"__ndarray__\":\"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\",\"dtype\":\"float64\",\"shape\":[288]},\"00060\":{\"__ndarray__\":\"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\",\"dtype\":\"float64\",\"shape\":[288]},\"00065\":{\"__ndarray__\":\"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\",\"dtype\":\"float64\",\"shape\":[288]},\"00095\":{\"__ndarray__\":\"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\",\"dtype\":\"float64\",\"shape\":[288]},\"63680\":{\"__ndarray__\":\"mpmZmZmZJUDNzMzMzMwkQGZmZmZmZiNAZmZmZmZmI0AAAAAAAAAkQGZmZmZmZiRAmpmZmZmZI0DNzMzMzMwkQAAAAAAAACRAmpmZmZmZI0BmZmZmZmYjQM3MzMzMzCJAzczMzMzMIkAzMzMzMzMiQM3MzMzMzCJAzczMzMzMIkAAAAAAAAAiQGZmZmZmZiJAmpmZmZmZIkCamZmZmZkhQM3MzMzMzCFAmpmZmZmZIkCamZmZmZkhQJqZmZmZmSJAzczMzMzMIUDNzMzMzMwgQGZmZmZmZiFAAAAAAAAAIUBmZmZmZmYgQM3MzMzMzCBAAAAAAAAAIEAAAAAAAAAgQM3MzMzMzCBAAAAAAAAAIEAAAAAAAAAgQAAAAAAAACBAZmZmZmZmIEAAAAAAAAAgQAAAAAAAACFAZmZmZmZmIUAzMzMzMzMfQDMzMzMzMyBAZmZmZmZmIECamZmZmZkfQJqZmZmZmR9AZmZmZmZmHkAzMzMzMzMgQJqZmZmZmR9AmpmZmZmZIEAAAAAAAAAgQM3MzMzMzCBAmpmZmZmZH0DNzMzMzMwgQJqZmZmZmSBAmpmZmZmZIEAzMzMzMzMgQDMzMzMzMyFAZmZmZmZmIEDNzMzMzMwhQDMzMzMzMyBAAAAAAAAAIUAzMzMzMzMhQGZmZmZmZiFAmpmZmZmZIUBmZmZmZmYhQGZmZmZmZiFAmpmZmZmZI0AAAAAAAAAiQDMzMzMzMyJAzczMzMzMIkAAAAAAAAAjQJqZmZmZmSJAmpmZmZmZIkAAAAAAAAAjQM3MzMzMzCFAZmZmZmZmIkAzMzMzMzMjQDMzMzMzMyRAZmZmZmZmIkDNzMzMzMwiQGZmZmZmZiNAzczMzMzMIkAzMzMzMzMjQAAAAAAAACRAmpmZmZmZI0DNzMzMzMwiQAAAAAAAACRAmpmZmZmZI0DNzMzMzMwjQAAAAAAAACVAAAAAAAAAI0BmZmZmZmYjQAAAAAAAACNAAAAAAAAAI0AzMzMzMzMiQDMzMzMzMyJAAAAAAAAAIUAAAAAAAAAiQM3MzMzMzCBAMzMzMzMzIUAzMzMzMzMgQJqZmZmZmSBAMzMzMzMzIECamZmZmZkgQDMzMzMzMyBAmpmZmZmZIEBmZmZmZmYgQDMzMzMzMyBAMzMzMzMzH0CamZmZmZkfQM3MzMzMzB5AmpmZmZmZH0DNzMzMzMweQAAAAAAAAB5AAAAAAAAAHEAzMzMzMzMdQDMzMzMzMx9AzczMzMzMHEAAAAAAAAAcQAAAAAAAABxAZmZmZmZmHkAAAAAAAAAcQAAAAAAAABxAZmZmZmZmHECamZmZmZkbQGZmZmZmZh5AmpmZmZmZHUCamZmZmZkbQDMzMzMzMxtAmpmZmZmZG0CamZmZmZkdQM3MzMzMzBxAzczMzMzMHEAzMzMzMzMfQDMzMzMzMx1AAAAAAAAAHkDNzMzMzMweQAAAAAAAAB5AAAAAAAAAHkBmZmZmZmYeQM3MzMzMzB5AMzMzMzMzIUBmZmZmZmYhQDMzMzMzMyBAMzMzMzMzIUDNzMzMzMwhQDMzMzMzMyFAZmZmZmZmIUDNzMzMzMwiQJqZmZmZmSJAZmZmZmZmIkAAAAAAAAD4fwAAAAAAAPh/AAAAAAAAI0DNzMzMzMwiQDMzMzMzMyNAMzMzMzMzI0CamZmZmZkiQAAAAAAAACRAmpmZmZmZI0DNzMzMzMwiQJqZmZmZmSNAAAAAAAAAJEAAAAAAAAAkQAAAAAAAACNAAAAAAAAAI0BmZmZmZmYkQJqZmZmZmSNAmpmZmZmZIkDNzMzMzMwjQGZmZmZmZiNAMzMzMzMzIkAzMzMzMzMiQGZmZmZmZiJAMzMzMzMzIkAAAAAAAAAjQGZmZmZmZiNAMzMzMzMzIkCamZmZmZkhQM3MzMzMzCFAmpmZmZmZIEAAAAAAAAAhQM3MzMzMzCBAmpmZmZmZIEAAAAAAAAAhQJqZmZmZmR9AzczMzMzMHkBmZmZmZmYeQAAAAAAAAB5AAAAAAAAAHkAzMzMzMzMdQAAAAAAAAB5AMzMzMzMzHUAzMzMzMzMbQAAAAAAAAB5AMzMzMzMzG0AzMzMzMzMbQJqZmZmZmRtAMzMzMzMzG0AzMzMzMzMbQGZmZmZmZhxAMzMzMzMzGUBmZmZmZmYYQJqZmZmZmRlAMzMzMzMzGUDNzMzMzMwYQDMzMzMzMxlAmpmZmZmZGUAAAAAAAAAYQJqZmZmZmRdAAAAAAAAAGkBmZmZmZmYaQGZmZmZmZhxAzczMzMzMHECamZmZmZkdQGZmZmZmZh5AZmZmZmZmHkDNzMzMzMweQDMzMzMzMx9AAAAAAAAAIEAAAAAAAAAhQDMzMzMzMx9AzczMzMzMIECamZmZmZkgQGZmZmZmZiBAZmZmZmZmIEDNzMzMzMwgQDMzMzMzMyBAzczMzMzMIECamZmZmZkhQDMzMzMzMyFAAAAAAAAAIUAzMzMzMzMiQDMzMzMzMyJAMzMzMzMzIUBmZmZmZmYhQGZmZmZmZiJAAAAAAAAAI0CamZmZmZkiQAAAAAAAACNAZmZmZmZmI0AAAAAAAAAjQGZmZmZmZiNAMzMzMzMzI0AAAAAAAAAkQM3MzMzMzCNAmpmZmZmZIkBmZmZmZmYjQGZmZmZmZiRAMzMzMzMzIkCamZmZmZkiQM3MzMzMzCJAmpmZmZmZI0AzMzMzMzMjQM3MzMzMzCJAmpmZmZmZI0CamZmZmZkiQGZmZmZmZiNAZmZmZmZmI0AAAAAAAAAjQGZmZmZmZiJAzczMzMzMI0CamZmZmZkjQDMzMzMzMyJAZmZmZmZmIkDNzMzMzMwhQJqZmZmZmSFAmpmZmZmZIUBmZmZmZmYiQJqZmZmZmSFAZmZmZmZmIUDNzMzMzMwgQDMzMzMzMyFAzczMzMzMIEAzMzMzMzMgQAAAAAAAACBAmpmZmZmZH0CamZmZmZkfQDMzMzMzMx9AAAAAAAAAIEBmZmZmZmYeQDMzMzMzMx1AMzMzMzMzHUDNzMzMzMwcQGZmZmZmZhxAZmZmZmZmHEAzMzMzMzMbQAAAAAAAABpA\",\"dtype\":\"float64\",\"shape\":[288]},\"date\":{\"__ndarray__\":\"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\",\"dtype\":\"float64\",\"shape\":[288]},\"time\":[57600000.0,58500000.0,59400000.0,60300000.0,61200000.0,62100000.0,63000000.0,63900000.0,64800000.0,65700000.0,66600000.0,67500000.0,68400000.0,69300000.0,70200000.0,71100000.0,72000000.0,72900000.0,73800000.0,74700000.0,75600000.0,76500000.0,77400000.0,78300000.0,79200000.0,80100000.0,81000000.0,81900000.0,82800000.0,83700000.0,84600000.0,85500000.0,0.0,900000.0,1800000.0,2700000.0,3600000.0,4500000.0,5400000.0,6300000.0,7200000.0,8100000.0,9000000.0,9900000.0,10800000.0,11700000.0,12600000.0,13500000.0,14400000.0,15300000.0,16200000.0,17100000.0,18000000.0,18900000.0,19800000.0,20700000.0,21600000.0,22500000.0,23400000.0,24300000.0,25200000.0,26100000.0,27000000.0,27900000.0,28800000.0,29700000.0,30600000.0,31500000.0,32400000.0,33300000.0,34200000.0,35100000.0,36000000.0,36900000.0,37800000.0,38700000.0,39600000.0,40500000.0,41400000.0,42300000.0,43200000.0,44100000.0,45000000.0,45900000.0,46800000.0,47700000.0,48600000.0,49500000.0,50400000.0,51300000.0,52200000.0,53100000.0,54000000.0,54900000.0,55800000.0,56700000.0,57600000.0,58500000.0,59400000.0,60300000.0,61200000.0,62100000.0,63000000.0,63900000.0,64800000.0,65700000.0,66600000.0,67500000.0,68400000.0,69300000.0,70200000.0,71100000.0,72000000.0,72900000.0,73800000.0,74700000.0,75600000.0,76500000.0,77400000.0,78300000.0,79200000.0,80100000.0,81000000.0,81900000.0,82800000.0,83700000.0,84600000.0,85500000.0,0.0,900000.0,1800000.0,2700000.0,3600000.0,4500000.0,5400000.0,6300000.0,7200000.0,8100000.0,9000000.0,9900000.0,10800000.0,11700000.0,12600000.0,13500000.0,14400000.0,15300000.0,16200000.0,17100000.0,18000000.0,18900000.0,19800000.0,20700000.0,21600000.0,22500000.0,23400000.0,24300000.0,25200000.0,26100000.0,27000000.0,27900000.0,28800000.0,29700000.0,30600000.0,31500000.0,32400000.0,33300000.0,34200000.0,35100000.0,36000000.0,36900000.0,37800000.0,38700000.0,39600000.0,40500000.0,41400000.0,42300000.0,43200000.0,44100000.0,45000000.0,45900000.0,46800000.0,47700000.0,48600000.0,49500000.0,50400000.0,51300000.0,52200000.0,53100000.0,54000000.0,54900000.0,55800000.0,56700000.0,57600000.0,58500000.0,59400000.0,60300000.0,61200000.0,62100000.0,63000000.0,63900000.0,64800000.0,65700000.0,66600000.0,67500000.0,68400000.0,69300000.0,70200000.0,71100000.0,72000000.0,72900000.0,73800000.0,74700000.0,75600000.0,76500000.0,77400000.0,78300000.0,79200000.0,80100000.0,81000000.0,81900000.0,82800000.0,83700000.0,84600000.0,85500000.0,0.0,900000.0,1800000.0,2700000.0,3600000.0,4500000.0,5400000.0,6300000.0,7200000.0,8100000.0,9000000.0,9900000.0,10800000.0,11700000.0,12600000.0,13500000.0,14400000.0,15300000.0,16200000.0,17100000.0,18000000.0,18900000.0,19800000.0,20700000.0,21600000.0,22500000.0,23400000.0,24300000.0,25200000.0,26100000.0,27000000.0,27900000.0,28800000.0,29700000.0,30600000.0,31500000.0,32400000.0,33300000.0,34200000.0,35100000.0,36000000.0,36900000.0,37800000.0,38700000.0,39600000.0,40500000.0,41400000.0,42300000.0,43200000.0,44100000.0,45000000.0,45900000.0,46800000.0,47700000.0,48600000.0,49500000.0,50400000.0,51300000.0,52200000.0,53100000.0,54000000.0,54900000.0,55800000.0,56700000.0]},\"selected\":{\"id\":\"1993\",\"type\":\"Selection\"},\"selection_policy\":{\"id\":\"1994\",\"type\":\"UnionRenderers\"}},\"id\":\"1914\",\"type\":\"ColumnDataSource\"}],\"root_ids\":[\"1916\"]},\"title\":\"Bokeh Application\",\"version\":\"1.1.0\"}}\\';\\n          var render_items = [{\"docid\":\"c252c539-5443-41b7-a4d5-bbcd3d2044a9\",\"roots\":{\"1916\":\"03b6f5e1-2a9f-4d39-90e2-5776a52429f2\"}}];\\n          root.Bokeh.embed.embed_items(docs_json, render_items);\\n        \\n          }\\n          if (root.Bokeh !== undefined) {\\n            embed_document(root);\\n          } else {\\n            var attempts = 0;\\n            var timer = setInterval(function(root) {\\n              if (root.Bokeh !== undefined) {\\n                embed_document(root);\\n                clearInterval(timer);\\n              }\\n              attempts++;\\n              if (attempts > 100) {\\n                console.log(\"Bokeh: ERROR: Unable to run BokehJS code because BokehJS library is missing\");\\n                clearInterval(timer);\\n              }\\n            }, 10, root)\\n          }\\n        })(window);\\n      });\\n    };\\n    if (document.readyState != \"loading\") fn();\\n    else document.addEventListener(\"DOMContentLoaded\", fn);\\n  })();\\n</script>'"
      ]
     },
     "execution_count": 19,
     "metadata": {},
     "output_type": "execute_result"
    }
   ],
   "source": [
    "script"
   ]
  },
  {
   "cell_type": "code",
   "execution_count": 20,
   "metadata": {},
   "outputs": [
    {
     "data": {
      "text/plain": [
       "'\\n<div class=\"bk-root\" id=\"03b6f5e1-2a9f-4d39-90e2-5776a52429f2\" data-root-id=\"1916\"></div>'"
      ]
     },
     "execution_count": 20,
     "metadata": {},
     "output_type": "execute_result"
    }
   ],
   "source": [
    "div"
   ]
  },
  {
   "cell_type": "code",
   "execution_count": null,
   "metadata": {},
   "outputs": [],
   "source": []
  }
 ],
 "metadata": {
  "kernelspec": {
   "display_name": "Python 3",
   "language": "python",
   "name": "python3"
  },
  "language_info": {
   "codemirror_mode": {
    "name": "ipython",
    "version": 3
   },
   "file_extension": ".py",
   "mimetype": "text/x-python",
   "name": "python",
   "nbconvert_exporter": "python",
   "pygments_lexer": "ipython3",
   "version": "3.7.3"
  }
 },
 "nbformat": 4,
 "nbformat_minor": 2
}
